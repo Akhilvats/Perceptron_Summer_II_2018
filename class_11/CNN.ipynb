{
 "cells": [
  {
   "cell_type": "code",
   "execution_count": 5,
   "metadata": {
    "collapsed": true
   },
   "outputs": [],
   "source": [
    "import numpy as np\n",
    "import pandas as pd\n",
    "import torch\n",
    "from torch.autograd import Variable\n",
    "import torch.nn.functional as F\n",
    "from torch import nn\n",
    "import matplotlib.pyplot as plt\n",
    "%matplotlib inline"
   ]
  },
  {
   "cell_type": "code",
   "execution_count": 6,
   "metadata": {
    "collapsed": false
   },
   "outputs": [
    {
     "name": "stdout",
     "output_type": "stream",
     "text": [
      "(42000, 785)\n"
     ]
    }
   ],
   "source": [
    "ds = pd.read_csv('../../data/mnist.csv').values\n",
    "print ds.shape"
   ]
  },
  {
   "cell_type": "code",
   "execution_count": 7,
   "metadata": {
    "collapsed": true
   },
   "outputs": [],
   "source": [
    "# Convert to one-hot encoding\n",
    "\n",
    "# def one_hot(data, n_classes=None):\n",
    "#     if n_classes is None:\n",
    "#         n_classes = np.unique(data).shape[0]\n",
    "#     oh = np.zeros((data.shape[0], n_classes))\n",
    "    \n",
    "#     for ix in range(oh.shape[0]):\n",
    "#         oh[ix, data[ix]] = 1\n",
    "#     return oh"
   ]
  },
  {
   "cell_type": "code",
   "execution_count": null,
   "metadata": {
    "collapsed": false
   },
   "outputs": [],
   "source": []
  },
  {
   "cell_type": "code",
   "execution_count": 8,
   "metadata": {
    "collapsed": false
   },
   "outputs": [
    {
     "name": "stdout",
     "output_type": "stream",
     "text": [
      "(10000, 1, 28, 28) (10000,)\n"
     ]
    }
   ],
   "source": [
    "# Data Preparation\n",
    "X_train = ds[:10000, 1:].reshape((-1, 1, 28, 28)) / 255.0\n",
    "y_train = ds[:10000, 0]\n",
    "\n",
    "X_test = ds[5000:5100, 1:].reshape((-1, 1, 28, 28)) / 255.0\n",
    "y_test = ds[5000:5100, 0]\n",
    "# y_train = one_hot(y_train_labels, 10)\n",
    "\n",
    "print X_train.shape, y_train.shape"
   ]
  },
  {
   "cell_type": "code",
   "execution_count": 9,
   "metadata": {
    "collapsed": false
   },
   "outputs": [],
   "source": [
    "class CNN(torch.nn.Module):\n",
    "    def __init__(self):\n",
    "        super(CNN, self).__init__()\n",
    "        self.conv1 = nn.Sequential(         # input shape (1, 28, 28)\n",
    "            nn.Conv2d(\n",
    "                in_channels=1,              # input height\n",
    "                out_channels=16,            # n_filters\n",
    "                kernel_size=5,              # filter size\n",
    "                stride=1,                   # filter movement/step\n",
    "                padding=2,                  # if want same width and length of this image after con2d, padding=(kernel_size-1)/2 if stride=1\n",
    "            ),                              # output shape (16, 28, 28)\n",
    "            nn.ReLU(),                      # activation\n",
    "            nn.MaxPool2d(kernel_size=2),    # choose max value in 2x2 area, output shape (16, 14, 14)\n",
    "        )\n",
    "        \n",
    "        self.conv2 = nn.Sequential(         # input shape (16, 14, 14)\n",
    "            nn.Conv2d(16, 32, 5, 1, 2),     # output shape (32, 14, 14)\n",
    "            nn.ReLU(),                      # activation\n",
    "            nn.MaxPool2d(2),                # output shape (32, 7, 7)\n",
    "        )\n",
    "        self.out = nn.Linear(32 * 7 * 7, 10)   # fully connected layer, output 10 classes\n",
    "    \n",
    "    def forward(self, x):\n",
    "        x = self.conv1(x)\n",
    "        x = self.conv2(x)\n",
    "        x = x.view(x.size(0), -1)           # flatten the output of conv2 to (batch_size, 32 * 7 * 7)\n",
    "        output = F.softmax(self.out(x))\n",
    "        return output"
   ]
  },
  {
   "cell_type": "code",
   "execution_count": 10,
   "metadata": {
    "collapsed": false
   },
   "outputs": [
    {
     "name": "stdout",
     "output_type": "stream",
     "text": [
      "CNN(\n",
      "  (conv1): Sequential(\n",
      "    (0): Conv2d(1, 16, kernel_size=(5, 5), stride=(1, 1), padding=(2, 2))\n",
      "    (1): ReLU()\n",
      "    (2): MaxPool2d(kernel_size=2, stride=2, padding=0, dilation=1, ceil_mode=False)\n",
      "  )\n",
      "  (conv2): Sequential(\n",
      "    (0): Conv2d(16, 32, kernel_size=(5, 5), stride=(1, 1), padding=(2, 2))\n",
      "    (1): ReLU()\n",
      "    (2): MaxPool2d(kernel_size=2, stride=2, padding=0, dilation=1, ceil_mode=False)\n",
      "  )\n",
      "  (out): Linear(in_features=1568, out_features=10, bias=True)\n",
      ")\n"
     ]
    },
    {
     "data": {
      "text/plain": [
       "CNN(\n",
       "  (conv1): Sequential(\n",
       "    (0): Conv2d(1, 16, kernel_size=(5, 5), stride=(1, 1), padding=(2, 2))\n",
       "    (1): ReLU()\n",
       "    (2): MaxPool2d(kernel_size=2, stride=2, padding=0, dilation=1, ceil_mode=False)\n",
       "  )\n",
       "  (conv2): Sequential(\n",
       "    (0): Conv2d(16, 32, kernel_size=(5, 5), stride=(1, 1), padding=(2, 2))\n",
       "    (1): ReLU()\n",
       "    (2): MaxPool2d(kernel_size=2, stride=2, padding=0, dilation=1, ceil_mode=False)\n",
       "  )\n",
       "  (out): Linear(in_features=1568, out_features=10, bias=True)\n",
       ")"
      ]
     },
     "execution_count": 10,
     "metadata": {},
     "output_type": "execute_result"
    }
   ],
   "source": [
    "cnn = CNN()\n",
    "print cnn\n",
    "\n",
    "cnn.cuda()"
   ]
  },
  {
   "cell_type": "code",
   "execution_count": 113,
   "metadata": {
    "collapsed": false
   },
   "outputs": [],
   "source": [
    "# SGD needs more (like x100 more!) learning rate.\n",
    "optimizer = torch.optim.SGD(cnn.parameters(), lr=0.1)   # optimize all cnn parameters\n",
    "# TODO: Maybe add weight_decay parameter to the optimier?\n",
    "\n",
    "loss_func = nn.CrossEntropyLoss()                       # the target label is not one-hotted"
   ]
  },
  {
   "cell_type": "code",
   "execution_count": 114,
   "metadata": {
    "collapsed": false
   },
   "outputs": [],
   "source": [
    "# cnn(torch.FloatTensor(X_train[9:10])).argmax()"
   ]
  },
  {
   "cell_type": "code",
   "execution_count": null,
   "metadata": {
    "collapsed": false
   },
   "outputs": [],
   "source": []
  },
  {
   "cell_type": "code",
   "execution_count": 115,
   "metadata": {
    "collapsed": false
   },
   "outputs": [],
   "source": [
    "def make_batch(train, labels, batch_size=10, gpu=True):\n",
    "    start = 0\n",
    "    stop = start + batch_size\n",
    "    while start < train.shape[0]:\n",
    "        if gpu:\n",
    "            yield Variable(torch.FloatTensor(train[start:stop]), requires_grad=True).cuda(), Variable(torch.LongTensor(labels[start:stop])).cuda()\n",
    "        else:\n",
    "            yield Variable(torch.FloatTensor(train[start:stop]), requires_grad=True).cuda(), Variable(torch.LongTensor(labels[start:stop])).cuda()\n",
    "        start = stop\n",
    "        stop = start + batch_size"
   ]
  },
  {
   "cell_type": "code",
   "execution_count": 116,
   "metadata": {
    "collapsed": false
   },
   "outputs": [],
   "source": [
    "# for s, (ix, iy) in enumerate(make_batch(X_train, y_train, batch_size=100)):\n",
    "#     print s, ix.shape, iy.shape"
   ]
  },
  {
   "cell_type": "code",
   "execution_count": 119,
   "metadata": {
    "collapsed": false,
    "scrolled": true
   },
   "outputs": [
    {
     "name": "stderr",
     "output_type": "stream",
     "text": [
      "/usr/local/lib/python2.7/dist-packages/ipykernel/__main__.py:27: UserWarning: Implicit dimension choice for softmax has been deprecated. Change the call to include dim=X as an argument.\n"
     ]
    },
    {
     "name": "stdout",
     "output_type": "stream",
     "text": [
      "tensor(2.3027, device='cuda:0')\n",
      "('Epoch: ', 0, '| Step: ', 0, '| Acc: ', 8.0)\n",
      "tensor(2.3026, device='cuda:0')\n",
      "tensor(2.3026, device='cuda:0')\n",
      "tensor(2.3027, device='cuda:0')\n",
      "tensor(2.3025, device='cuda:0')\n",
      "tensor(2.3028, device='cuda:0')\n",
      "tensor(2.3023, device='cuda:0')\n",
      "tensor(2.3026, device='cuda:0')\n",
      "tensor(2.3026, device='cuda:0')\n",
      "tensor(2.3026, device='cuda:0')\n",
      "tensor(2.3027, device='cuda:0')\n",
      "tensor(2.3026, device='cuda:0')\n",
      "tensor(2.3028, device='cuda:0')\n",
      "tensor(2.3026, device='cuda:0')\n",
      "tensor(2.3029, device='cuda:0')\n",
      "tensor(2.3028, device='cuda:0')\n",
      "tensor(2.3025, device='cuda:0')\n",
      "tensor(2.3027, device='cuda:0')\n",
      "tensor(2.3025, device='cuda:0')\n",
      "tensor(2.3027, device='cuda:0')\n",
      "tensor(2.3027, device='cuda:0')\n",
      "('Epoch: ', 1, '| Step: ', 0, '| Acc: ', 7.0)\n",
      "tensor(2.3025, device='cuda:0')\n",
      "tensor(2.3026, device='cuda:0')\n",
      "tensor(2.3027, device='cuda:0')\n",
      "tensor(2.3025, device='cuda:0')\n",
      "tensor(2.3028, device='cuda:0')\n",
      "tensor(2.3023, device='cuda:0')\n",
      "tensor(2.3026, device='cuda:0')\n",
      "tensor(2.3026, device='cuda:0')\n",
      "tensor(2.3026, device='cuda:0')\n",
      "tensor(2.3027, device='cuda:0')\n",
      "tensor(2.3026, device='cuda:0')\n",
      "tensor(2.3028, device='cuda:0')\n",
      "tensor(2.3026, device='cuda:0')\n",
      "tensor(2.3029, device='cuda:0')\n",
      "tensor(2.3028, device='cuda:0')\n",
      "tensor(2.3025, device='cuda:0')\n",
      "tensor(2.3027, device='cuda:0')\n",
      "tensor(2.3025, device='cuda:0')\n",
      "tensor(2.3027, device='cuda:0')\n",
      "tensor(2.3026, device='cuda:0')\n",
      "('Epoch: ', 2, '| Step: ', 0, '| Acc: ', 7.0)\n",
      "tensor(2.3025, device='cuda:0')\n",
      "tensor(2.3026, device='cuda:0')\n",
      "tensor(2.3027, device='cuda:0')\n",
      "tensor(2.3025, device='cuda:0')\n",
      "tensor(2.3028, device='cuda:0')\n",
      "tensor(2.3023, device='cuda:0')\n",
      "tensor(2.3026, device='cuda:0')\n",
      "tensor(2.3026, device='cuda:0')\n",
      "tensor(2.3026, device='cuda:0')\n",
      "tensor(2.3027, device='cuda:0')\n",
      "tensor(2.3026, device='cuda:0')\n",
      "tensor(2.3028, device='cuda:0')\n",
      "tensor(2.3026, device='cuda:0')\n",
      "tensor(2.3029, device='cuda:0')\n",
      "tensor(2.3028, device='cuda:0')\n",
      "tensor(2.3025, device='cuda:0')\n",
      "tensor(2.3027, device='cuda:0')\n",
      "tensor(2.3024, device='cuda:0')\n",
      "tensor(2.3027, device='cuda:0')\n",
      "tensor(2.3026, device='cuda:0')\n",
      "('Epoch: ', 3, '| Step: ', 0, '| Acc: ', 7.0)\n",
      "tensor(2.3025, device='cuda:0')\n",
      "tensor(2.3025, device='cuda:0')\n",
      "tensor(2.3027, device='cuda:0')\n",
      "tensor(2.3025, device='cuda:0')\n",
      "tensor(2.3028, device='cuda:0')\n",
      "tensor(2.3023, device='cuda:0')\n",
      "tensor(2.3026, device='cuda:0')\n",
      "tensor(2.3026, device='cuda:0')\n",
      "tensor(2.3026, device='cuda:0')\n",
      "tensor(2.3027, device='cuda:0')\n",
      "tensor(2.3026, device='cuda:0')\n",
      "tensor(2.3028, device='cuda:0')\n",
      "tensor(2.3026, device='cuda:0')\n",
      "tensor(2.3029, device='cuda:0')\n",
      "tensor(2.3028, device='cuda:0')\n",
      "tensor(2.3024, device='cuda:0')\n",
      "tensor(2.3026, device='cuda:0')\n",
      "tensor(2.3024, device='cuda:0')\n",
      "tensor(2.3027, device='cuda:0')\n",
      "tensor(2.3026, device='cuda:0')\n",
      "('Epoch: ', 4, '| Step: ', 0, '| Acc: ', 7.0)\n",
      "tensor(2.3025, device='cuda:0')\n",
      "tensor(2.3025, device='cuda:0')\n",
      "tensor(2.3027, device='cuda:0')\n",
      "tensor(2.3025, device='cuda:0')\n",
      "tensor(2.3028, device='cuda:0')\n",
      "tensor(2.3022, device='cuda:0')\n",
      "tensor(2.3026, device='cuda:0')\n",
      "tensor(2.3026, device='cuda:0')\n",
      "tensor(2.3026, device='cuda:0')\n",
      "tensor(2.3027, device='cuda:0')\n",
      "tensor(2.3026, device='cuda:0')\n",
      "tensor(2.3028, device='cuda:0')\n",
      "tensor(2.3026, device='cuda:0')\n",
      "tensor(2.3029, device='cuda:0')\n",
      "tensor(2.3028, device='cuda:0')\n",
      "tensor(2.3024, device='cuda:0')\n",
      "tensor(2.3026, device='cuda:0')\n",
      "tensor(2.3024, device='cuda:0')\n",
      "tensor(2.3027, device='cuda:0')\n",
      "tensor(2.3026, device='cuda:0')\n",
      "('Epoch: ', 5, '| Step: ', 0, '| Acc: ', 7.0)\n",
      "tensor(2.3025, device='cuda:0')\n",
      "tensor(2.3025, device='cuda:0')\n",
      "tensor(2.3026, device='cuda:0')\n",
      "tensor(2.3024, device='cuda:0')\n",
      "tensor(2.3027, device='cuda:0')\n",
      "tensor(2.3022, device='cuda:0')\n",
      "tensor(2.3026, device='cuda:0')\n",
      "tensor(2.3026, device='cuda:0')\n",
      "tensor(2.3026, device='cuda:0')\n",
      "tensor(2.3027, device='cuda:0')\n",
      "tensor(2.3026, device='cuda:0')\n",
      "tensor(2.3027, device='cuda:0')\n",
      "tensor(2.3026, device='cuda:0')\n",
      "tensor(2.3028, device='cuda:0')\n",
      "tensor(2.3027, device='cuda:0')\n",
      "tensor(2.3024, device='cuda:0')\n",
      "tensor(2.3026, device='cuda:0')\n",
      "tensor(2.3024, device='cuda:0')\n",
      "tensor(2.3027, device='cuda:0')\n",
      "tensor(2.3026, device='cuda:0')\n",
      "('Epoch: ', 6, '| Step: ', 0, '| Acc: ', 7.0)\n",
      "tensor(2.3025, device='cuda:0')\n",
      "tensor(2.3025, device='cuda:0')\n",
      "tensor(2.3026, device='cuda:0')\n",
      "tensor(2.3024, device='cuda:0')\n",
      "tensor(2.3027, device='cuda:0')\n",
      "tensor(2.3022, device='cuda:0')\n",
      "tensor(2.3026, device='cuda:0')\n",
      "tensor(2.3025, device='cuda:0')\n",
      "tensor(2.3026, device='cuda:0')\n",
      "tensor(2.3026, device='cuda:0')\n",
      "tensor(2.3025, device='cuda:0')\n",
      "tensor(2.3027, device='cuda:0')\n",
      "tensor(2.3026, device='cuda:0')\n",
      "tensor(2.3028, device='cuda:0')\n",
      "tensor(2.3027, device='cuda:0')\n",
      "tensor(2.3024, device='cuda:0')\n",
      "tensor(2.3026, device='cuda:0')\n",
      "tensor(2.3024, device='cuda:0')\n",
      "tensor(2.3026, device='cuda:0')\n",
      "tensor(2.3026, device='cuda:0')\n",
      "('Epoch: ', 7, '| Step: ', 0, '| Acc: ', 7.0)\n",
      "tensor(2.3024, device='cuda:0')\n",
      "tensor(2.3025, device='cuda:0')\n",
      "tensor(2.3026, device='cuda:0')\n",
      "tensor(2.3024, device='cuda:0')\n",
      "tensor(2.3027, device='cuda:0')\n",
      "tensor(2.3022, device='cuda:0')\n",
      "tensor(2.3025, device='cuda:0')\n",
      "tensor(2.3025, device='cuda:0')\n",
      "tensor(2.3025, device='cuda:0')\n",
      "tensor(2.3026, device='cuda:0')\n",
      "tensor(2.3025, device='cuda:0')\n",
      "tensor(2.3027, device='cuda:0')\n",
      "tensor(2.3025, device='cuda:0')\n",
      "tensor(2.3028, device='cuda:0')\n",
      "tensor(2.3027, device='cuda:0')\n",
      "tensor(2.3024, device='cuda:0')\n",
      "tensor(2.3026, device='cuda:0')\n",
      "tensor(2.3024, device='cuda:0')\n",
      "tensor(2.3026, device='cuda:0')\n",
      "tensor(2.3026, device='cuda:0')\n",
      "('Epoch: ', 8, '| Step: ', 0, '| Acc: ', 7.0)\n",
      "tensor(2.3024, device='cuda:0')\n",
      "tensor(2.3025, device='cuda:0')\n",
      "tensor(2.3026, device='cuda:0')\n",
      "tensor(2.3024, device='cuda:0')\n",
      "tensor(2.3027, device='cuda:0')\n",
      "tensor(2.3022, device='cuda:0')\n",
      "tensor(2.3025, device='cuda:0')\n",
      "tensor(2.3025, device='cuda:0')\n",
      "tensor(2.3025, device='cuda:0')\n",
      "tensor(2.3026, device='cuda:0')\n",
      "tensor(2.3025, device='cuda:0')\n",
      "tensor(2.3027, device='cuda:0')\n",
      "tensor(2.3025, device='cuda:0')\n",
      "tensor(2.3028, device='cuda:0')\n",
      "tensor(2.3027, device='cuda:0')\n",
      "tensor(2.3024, device='cuda:0')\n",
      "tensor(2.3026, device='cuda:0')\n",
      "tensor(2.3023, device='cuda:0')\n",
      "tensor(2.3026, device='cuda:0')\n",
      "tensor(2.3025, device='cuda:0')\n",
      "('Epoch: ', 9, '| Step: ', 0, '| Acc: ', 7.0)\n",
      "tensor(2.3024, device='cuda:0')\n",
      "tensor(2.3025, device='cuda:0')\n",
      "tensor(2.3026, device='cuda:0')\n",
      "tensor(2.3024, device='cuda:0')\n",
      "tensor(2.3027, device='cuda:0')\n",
      "tensor(2.3022, device='cuda:0')\n",
      "tensor(2.3025, device='cuda:0')\n",
      "tensor(2.3025, device='cuda:0')\n",
      "tensor(2.3025, device='cuda:0')\n",
      "tensor(2.3026, device='cuda:0')\n",
      "tensor(2.3025, device='cuda:0')\n",
      "tensor(2.3027, device='cuda:0')\n",
      "tensor(2.3025, device='cuda:0')\n",
      "tensor(2.3028, device='cuda:0')\n",
      "tensor(2.3027, device='cuda:0')\n",
      "tensor(2.3024, device='cuda:0')\n",
      "tensor(2.3026, device='cuda:0')\n",
      "tensor(2.3023, device='cuda:0')\n",
      "tensor(2.3026, device='cuda:0')\n"
     ]
    }
   ],
   "source": [
    "\n",
    "for epoch in range(10):\n",
    "    for step, (b_x, b_y) in enumerate(make_batch(X_train, y_train, 512)):   # gives batch data, normalize x when iterate train_loader\n",
    "        # print step,\n",
    "        output = cnn(b_x)               # cnn output\n",
    "        # print output.size(), output.sum(dim=0)\n",
    "        loss = loss_func(output, b_y)   # cross entropy loss\n",
    "        optimizer.zero_grad()           # clear gradients for this training step\n",
    "        loss.backward()                 # backpropagation, compute gradients\n",
    "        \n",
    "        # for params in cnn.parameters():\n",
    "        #     print params.grad.cpu().data.sum() # Y U no train!!!\n",
    "        optimizer.step()                # apply gradients\n",
    "\n",
    "        if step % 50 == 0:\n",
    "            test_output = cnn(torch.FloatTensor(X_test).cuda())\n",
    "            outs = test_output.cpu().data.numpy().argmax(axis=1)\n",
    "            acc = (outs == y_test).sum()*100.0 / test_output.shape[0]\n",
    "            # pred_y = torch.max(test_output, 1)[1].data.squeeze().numpy()\n",
    "            # accuracy = float((pred_y == test_y.data.numpy()).astype(int).sum()) / float(test_y.size(0))\n",
    "            print('Epoch: ', epoch, '| Step: ', step, '| Acc: ', acc)"
   ]
  },
  {
   "cell_type": "code",
   "execution_count": 106,
   "metadata": {
    "collapsed": false
   },
   "outputs": [
    {
     "data": {
      "text/plain": [
       "CNN(\n",
       "  (conv1): Sequential(\n",
       "    (0): Conv2d(1, 16, kernel_size=(5, 5), stride=(1, 1), padding=(2, 2))\n",
       "    (1): ReLU()\n",
       "    (2): MaxPool2d(kernel_size=2, stride=2, padding=0, dilation=1, ceil_mode=False)\n",
       "  )\n",
       "  (conv2): Sequential(\n",
       "    (0): Conv2d(16, 32, kernel_size=(5, 5), stride=(1, 1), padding=(2, 2))\n",
       "    (1): ReLU()\n",
       "    (2): MaxPool2d(kernel_size=2, stride=2, padding=0, dilation=1, ceil_mode=False)\n",
       "  )\n",
       "  (out): Linear(in_features=1568, out_features=10, bias=True)\n",
       ")"
      ]
     },
     "execution_count": 106,
     "metadata": {},
     "output_type": "execute_result"
    }
   ],
   "source": [
    "cnn.cpu()"
   ]
  },
  {
   "cell_type": "code",
   "execution_count": 107,
   "metadata": {
    "collapsed": false
   },
   "outputs": [
    {
     "name": "stderr",
     "output_type": "stream",
     "text": [
      "/usr/local/lib/python2.7/dist-packages/ipykernel/__main__.py:27: UserWarning: Implicit dimension choice for softmax has been deprecated. Change the call to include dim=X as an argument.\n"
     ]
    }
   ],
   "source": [
    "outs = cnn(torch.FloatTensor(X_train))"
   ]
  },
  {
   "cell_type": "code",
   "execution_count": 108,
   "metadata": {
    "collapsed": false
   },
   "outputs": [
    {
     "data": {
      "text/plain": [
       "95.16"
      ]
     },
     "execution_count": 108,
     "metadata": {},
     "output_type": "execute_result"
    }
   ],
   "source": [
    "(outs.data.numpy().argmax(axis=1) == y_train).sum()*100 / float(y_train.shape[0])"
   ]
  },
  {
   "cell_type": "markdown",
   "metadata": {},
   "source": [
    "# Viz"
   ]
  },
  {
   "cell_type": "code",
   "execution_count": 109,
   "metadata": {
    "collapsed": false
   },
   "outputs": [
    {
     "name": "stdout",
     "output_type": "stream",
     "text": [
      "['conv1.0.weight', 'conv1.0.bias', 'conv2.0.weight', 'conv2.0.bias', 'out.weight', 'out.bias']\n"
     ]
    }
   ],
   "source": [
    "print cnn.state_dict().keys()"
   ]
  },
  {
   "cell_type": "code",
   "execution_count": 110,
   "metadata": {
    "collapsed": false
   },
   "outputs": [
    {
     "name": "stdout",
     "output_type": "stream",
     "text": [
      "torch.Size([16, 1, 5, 5])\n"
     ]
    }
   ],
   "source": [
    "conv_01 = cnn.state_dict()['conv1.0.weight']\n",
    "print conv_01.shape"
   ]
  },
  {
   "cell_type": "code",
   "execution_count": 111,
   "metadata": {
    "collapsed": false
   },
   "outputs": [
    {
     "data": {
      "image/png": "[encoded data removed]",
      "text/plain": [
       "<matplotlib.figure.Figure at 0x7f128c1b05d0>"
      ]
     },
     "metadata": {},
     "output_type": "display_data"
    }
   ],
   "source": [
    "plt.figure(0)\n",
    "for ix in range(conv_01.shape[0]):\n",
    "    plt.subplot(4, 4, ix+1)\n",
    "    plt.xticks([])\n",
    "    plt.yticks([])\n",
    "    plt.imshow(conv_01[ix].reshape((5, 5)), cmap='gray')\n",
    "plt.show()\n"
   ]
  },
  {
   "cell_type": "code",
   "execution_count": null,
   "metadata": {
    "collapsed": true
   },
   "outputs": [],
   "source": []
  }
 ],
 "metadata": {
  "kernelspec": {
   "display_name": "Python 2",
   "language": "python",
   "name": "python2"
  },
  "language_info": {
   "codemirror_mode": {
    "name": "ipython",
    "version": 2
   },
   "file_extension": ".py",
   "mimetype": "text/x-python",
   "name": "python",
   "nbconvert_exporter": "python",
   "pygments_lexer": "ipython2",
   "version": "2.7.12"
  }
 },
 "nbformat": 4,
 "nbformat_minor": 2
}
