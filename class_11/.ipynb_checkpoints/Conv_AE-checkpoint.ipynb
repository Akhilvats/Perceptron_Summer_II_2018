{
 "cells": [
  {
   "cell_type": "code",
   "execution_count": 1,
   "metadata": {
    "collapsed": true
   },
   "outputs": [],
   "source": [
    "import numpy as np\n",
    "import pandas as pd\n",
    "import torch\n",
    "from torch.autograd import Variable\n",
    "import torch.nn.functional as F\n",
    "from torch import nn\n",
    "import matplotlib.pyplot as plt\n",
    "%matplotlib inline\n",
    "import torch.utils.data as Data"
   ]
  },
  {
   "cell_type": "code",
   "execution_count": 2,
   "metadata": {
    "collapsed": false
   },
   "outputs": [
    {
     "name": "stdout",
     "output_type": "stream",
     "text": [
      "(42000, 785)\n"
     ]
    }
   ],
   "source": [
    "ds = pd.read_csv('../../data/mnist.csv').values\n",
    "print ds.shape"
   ]
  },
  {
   "cell_type": "code",
   "execution_count": 3,
   "metadata": {
    "collapsed": false
   },
   "outputs": [
    {
     "name": "stdout",
     "output_type": "stream",
     "text": [
      "(10000, 1, 28, 28) (10000,)\n"
     ]
    }
   ],
   "source": [
    "# Data Preparation\n",
    "X_train = ds[:10000, 1:].reshape((-1, 1, 28, 28)) / 255.0\n",
    "y_train = ds[:10000, 0]\n",
    "\n",
    "X_test = ds[5000:5100, 1:].reshape((-1, 1, 28, 28)) / 255.0\n",
    "y_test = ds[5000:5100, 0]\n",
    "# y_train = one_hot(y_train_labels, 10)\n",
    "\n",
    "print X_train.shape, y_train.shape"
   ]
  },
  {
   "cell_type": "code",
   "execution_count": 15,
   "metadata": {
    "collapsed": true
   },
   "outputs": [],
   "source": [
    "nn.ConvTranspose2d?"
   ]
  },
  {
   "cell_type": "code",
   "execution_count": 16,
   "metadata": {
    "collapsed": false
   },
   "outputs": [],
   "source": [
    "class CAE(torch.nn.Module):\n",
    "    def __init__(self):\n",
    "        super(CAE, self).__init__()\n",
    "        self.encoder = nn.Sequential(\n",
    "            nn.Conv2d(1, 16, 3, stride=3, padding=1),  # b, 16, 10, 10\n",
    "            nn.ReLU(True),\n",
    "            nn.MaxPool2d(2, stride=2),  # b, 16, 5, 5\n",
    "            nn.Conv2d(16, 8, 3, stride=2, padding=1),  # b, 8, 3, 3\n",
    "            nn.ReLU(True),\n",
    "            nn.MaxPool2d(2, stride=1)  # b, 8, 2, 2\n",
    "        )\n",
    "        self.enc_linear = nn.Linear(8*2*2, 2)\n",
    "        \n",
    "        self.dec_linear = nn.Linear(2, 8*2*2)\n",
    "        self.decoder = nn.Sequential(\n",
    "            nn.ConvTranspose2d(8, 16, 3, stride=2),  # b, 16, 5, 5\n",
    "            nn.ReLU(True),\n",
    "            nn.ConvTranspose2d(16, 8, 5, stride=3, padding=1),  # b, 8, 15, 15\n",
    "            nn.ReLU(True),\n",
    "            nn.ConvTranspose2d(8, 1, 2, stride=2, padding=1),  # b, 1, 28, 28\n",
    "            nn.Sigmoid()\n",
    "        )\n",
    "    \n",
    "    def encoding(self, x):\n",
    "        x = self.encoder(x)\n",
    "        x = x.view(x.size(0), -1)\n",
    "        x = self.enc_linear(x)\n",
    "        return x\n",
    "    \n",
    "    def decoding(self, x):\n",
    "        x = self.dec_linear(x)\n",
    "        x = x.view(x.size(0), 8, 2, 2)\n",
    "        x = self.decoder(x)\n",
    "        return x\n",
    "    \n",
    "    def forward(self, x):\n",
    "        x = self.encoding(x)\n",
    "        x = self.decoding(x)\n",
    "        return x"
   ]
  },
  {
   "cell_type": "code",
   "execution_count": 33,
   "metadata": {
    "collapsed": true
   },
   "outputs": [],
   "source": [
    "model = CAE().cuda()"
   ]
  },
  {
   "cell_type": "code",
   "execution_count": 34,
   "metadata": {
    "collapsed": false
   },
   "outputs": [],
   "source": [
    "# model(torch.FloatTensor(X_train[:1])).min()"
   ]
  },
  {
   "cell_type": "code",
   "execution_count": 35,
   "metadata": {
    "collapsed": false
   },
   "outputs": [],
   "source": [
    "optimizer = torch.optim.Adam(model.parameters(), lr=0.008)\n",
    "loss_func = nn.MSELoss()"
   ]
  },
  {
   "cell_type": "code",
   "execution_count": 36,
   "metadata": {
    "collapsed": true
   },
   "outputs": [],
   "source": [
    "def make_batch(train, labels, batch_size=10, gpu=True):\n",
    "    start = 0\n",
    "    stop = start + batch_size\n",
    "    while start < train.shape[0]:\n",
    "        if gpu:\n",
    "            yield Variable(torch.FloatTensor(train[start:stop]), requires_grad=True).cuda(), Variable(torch.FloatTensor(train[start:stop])).cuda()\n",
    "        else:\n",
    "            yield Variable(torch.FloatTensor(train[start:stop]), requires_grad=True).cuda(), Variable(torch.LongTensor(train[start:stop])).cuda()\n",
    "        start = stop\n",
    "        stop = start + batch_size"
   ]
  },
  {
   "cell_type": "code",
   "execution_count": 37,
   "metadata": {
    "collapsed": false
   },
   "outputs": [
    {
     "name": "stdout",
     "output_type": "stream",
     "text": [
      "('Epoch: ', 0, '| Step: ', 0, '| Acc: ', array(0.21532743, dtype=float32))\n",
      "('Epoch: ', 10, '| Step: ', 0, '| Acc: ', array(0.05604114, dtype=float32))\n",
      "('Epoch: ', 20, '| Step: ', 0, '| Acc: ', array(0.05243701, dtype=float32))\n",
      "('Epoch: ', 30, '| Step: ', 0, '| Acc: ', array(0.05042791, dtype=float32))\n",
      "('Epoch: ', 40, '| Step: ', 0, '| Acc: ', array(0.0490901, dtype=float32))\n",
      "('Epoch: ', 50, '| Step: ', 0, '| Acc: ', array(0.04834052, dtype=float32))\n",
      "('Epoch: ', 60, '| Step: ', 0, '| Acc: ', array(0.04821775, dtype=float32))\n",
      "('Epoch: ', 70, '| Step: ', 0, '| Acc: ', array(0.04783975, dtype=float32))\n",
      "('Epoch: ', 80, '| Step: ', 0, '| Acc: ', array(0.04765055, dtype=float32))\n",
      "('Epoch: ', 90, '| Step: ', 0, '| Acc: ', array(0.04710865, dtype=float32))\n",
      "('Epoch: ', 100, '| Step: ', 0, '| Acc: ', array(0.04716108, dtype=float32))\n",
      "('Epoch: ', 110, '| Step: ', 0, '| Acc: ', array(0.04707479, dtype=float32))\n",
      "('Epoch: ', 120, '| Step: ', 0, '| Acc: ', array(0.04693317, dtype=float32))\n",
      "('Epoch: ', 130, '| Step: ', 0, '| Acc: ', array(0.04688654, dtype=float32))\n",
      "('Epoch: ', 140, '| Step: ', 0, '| Acc: ', array(0.04691909, dtype=float32))\n",
      "('Epoch: ', 150, '| Step: ', 0, '| Acc: ', array(0.04653817, dtype=float32))\n",
      "('Epoch: ', 160, '| Step: ', 0, '| Acc: ', array(0.04617264, dtype=float32))\n",
      "('Epoch: ', 170, '| Step: ', 0, '| Acc: ', array(0.04632515, dtype=float32))\n",
      "('Epoch: ', 180, '| Step: ', 0, '| Acc: ', array(0.04627494, dtype=float32))\n",
      "('Epoch: ', 190, '| Step: ', 0, '| Acc: ', array(0.04627718, dtype=float32))\n",
      "('Epoch: ', 200, '| Step: ', 0, '| Acc: ', array(0.04612915, dtype=float32))\n",
      "('Epoch: ', 210, '| Step: ', 0, '| Acc: ', array(0.04621064, dtype=float32))\n",
      "('Epoch: ', 220, '| Step: ', 0, '| Acc: ', array(0.04664437, dtype=float32))\n",
      "('Epoch: ', 230, '| Step: ', 0, '| Acc: ', array(0.04646747, dtype=float32))\n",
      "('Epoch: ', 240, '| Step: ', 0, '| Acc: ', array(0.04608941, dtype=float32))\n",
      "('Epoch: ', 250, '| Step: ', 0, '| Acc: ', array(0.04594893, dtype=float32))\n",
      "('Epoch: ', 260, '| Step: ', 0, '| Acc: ', array(0.04588218, dtype=float32))\n",
      "('Epoch: ', 270, '| Step: ', 0, '| Acc: ', array(0.04580148, dtype=float32))\n",
      "('Epoch: ', 280, '| Step: ', 0, '| Acc: ', array(0.04581479, dtype=float32))\n",
      "('Epoch: ', 290, '| Step: ', 0, '| Acc: ', array(0.04570851, dtype=float32))\n",
      "('Epoch: ', 300, '| Step: ', 0, '| Acc: ', array(0.04562746, dtype=float32))\n",
      "('Epoch: ', 310, '| Step: ', 0, '| Acc: ', array(0.04563851, dtype=float32))\n",
      "('Epoch: ', 320, '| Step: ', 0, '| Acc: ', array(0.04561321, dtype=float32))\n",
      "('Epoch: ', 330, '| Step: ', 0, '| Acc: ', array(0.04572783, dtype=float32))\n",
      "('Epoch: ', 340, '| Step: ', 0, '| Acc: ', array(0.04557946, dtype=float32))\n",
      "('Epoch: ', 350, '| Step: ', 0, '| Acc: ', array(0.04573997, dtype=float32))\n",
      "('Epoch: ', 360, '| Step: ', 0, '| Acc: ', array(0.04582551, dtype=float32))\n",
      "('Epoch: ', 370, '| Step: ', 0, '| Acc: ', array(0.04556783, dtype=float32))\n",
      "('Epoch: ', 380, '| Step: ', 0, '| Acc: ', array(0.04554727, dtype=float32))\n",
      "('Epoch: ', 390, '| Step: ', 0, '| Acc: ', array(0.04556608, dtype=float32))\n",
      "('Epoch: ', 400, '| Step: ', 0, '| Acc: ', array(0.04570067, dtype=float32))\n",
      "('Epoch: ', 410, '| Step: ', 0, '| Acc: ', array(0.04539901, dtype=float32))\n",
      "('Epoch: ', 420, '| Step: ', 0, '| Acc: ', array(0.04559527, dtype=float32))\n",
      "('Epoch: ', 430, '| Step: ', 0, '| Acc: ', array(0.04545206, dtype=float32))\n",
      "('Epoch: ', 440, '| Step: ', 0, '| Acc: ', array(0.04538358, dtype=float32))\n",
      "('Epoch: ', 450, '| Step: ', 0, '| Acc: ', array(0.04543661, dtype=float32))\n",
      "('Epoch: ', 460, '| Step: ', 0, '| Acc: ', array(0.04564842, dtype=float32))\n",
      "('Epoch: ', 470, '| Step: ', 0, '| Acc: ', array(0.04526468, dtype=float32))\n",
      "('Epoch: ', 480, '| Step: ', 0, '| Acc: ', array(0.04543924, dtype=float32))\n",
      "('Epoch: ', 490, '| Step: ', 0, '| Acc: ', array(0.04532992, dtype=float32))\n"
     ]
    }
   ],
   "source": [
    "for epoch in range(500):\n",
    "    for step, (b_x, b_y) in enumerate(make_batch(X_train, y_train, 256)):   # gives batch data, normalize x when iterate train_loader\n",
    "        # print step,\n",
    "        output = model(b_x)               # cnn output\n",
    "        # print output.size(), output.sum(dim=0)\n",
    "        loss = loss_func(output, b_y)   # cross entropy loss\n",
    "        optimizer.zero_grad()           # clear gradients for this training step\n",
    "        loss.backward()                 # backpropagation, compute gradients\n",
    "        \n",
    "        # for params in model.parameters():\n",
    "        #     print params.grad.cpu().data.sum() # Y U no train!!!\n",
    "        optimizer.step()                # apply gradients\n",
    "\n",
    "        if epoch % 10 == 0 and step %200 == 0:\n",
    "            test_output = model(torch.FloatTensor(X_test).cuda())\n",
    "            test_loss = loss_func(test_output, torch.FloatTensor(X_test).cuda())\n",
    "            acc = test_loss.cpu().data.numpy()\n",
    "            # pred_y = torch.max(test_output, 1)[1].data.squeeze().numpy()\n",
    "            # accuracy = float((pred_y == test_y.data.numpy()).astype(int).sum()) / float(test_y.size(0))\n",
    "            print('Epoch: ', epoch, '| Step: ', step, '| Acc: ', acc)"
   ]
  },
  {
   "cell_type": "code",
   "execution_count": 38,
   "metadata": {
    "collapsed": false
   },
   "outputs": [
    {
     "data": {
      "text/plain": [
       "CAE(\n",
       "  (encoder): Sequential(\n",
       "    (0): Conv2d(1, 16, kernel_size=(3, 3), stride=(3, 3), padding=(1, 1))\n",
       "    (1): ReLU(inplace)\n",
       "    (2): MaxPool2d(kernel_size=2, stride=2, padding=0, dilation=1, ceil_mode=False)\n",
       "    (3): Conv2d(16, 8, kernel_size=(3, 3), stride=(2, 2), padding=(1, 1))\n",
       "    (4): ReLU(inplace)\n",
       "    (5): MaxPool2d(kernel_size=2, stride=1, padding=0, dilation=1, ceil_mode=False)\n",
       "  )\n",
       "  (enc_linear): Linear(in_features=32, out_features=2, bias=True)\n",
       "  (dec_linear): Linear(in_features=2, out_features=32, bias=True)\n",
       "  (decoder): Sequential(\n",
       "    (0): ConvTranspose2d(8, 16, kernel_size=(3, 3), stride=(2, 2))\n",
       "    (1): ReLU(inplace)\n",
       "    (2): ConvTranspose2d(16, 8, kernel_size=(5, 5), stride=(3, 3), padding=(1, 1))\n",
       "    (3): ReLU(inplace)\n",
       "    (4): ConvTranspose2d(8, 1, kernel_size=(2, 2), stride=(2, 2), padding=(1, 1))\n",
       "    (5): Sigmoid()\n",
       "  )\n",
       ")"
      ]
     },
     "execution_count": 38,
     "metadata": {},
     "output_type": "execute_result"
    }
   ],
   "source": [
    "model.cpu()\n",
    "# model.cuda()"
   ]
  },
  {
   "cell_type": "code",
   "execution_count": 40,
   "metadata": {
    "collapsed": false
   },
   "outputs": [],
   "source": [
    "o = model(torch.FloatTensor(X_train[:4000])).data.numpy()\n",
    "\n",
    "emb = model.encoding(torch.FloatTensor(X_train[:4000])).data.numpy()"
   ]
  },
  {
   "cell_type": "code",
   "execution_count": null,
   "metadata": {
    "collapsed": false
   },
   "outputs": [],
   "source": [
    "colors = ['red', 'green', 'blue', 'black', 'cyan', 'orange', 'yellow', 'brown', 'pink', 'violet']\n",
    "\n",
    "for ix in range(emb.shape[0]):\n",
    "    plt.scatter(emb[ix, 0], emb[ix, 1], color=colors[y_train[ix]])\n",
    "plt.show()"
   ]
  },
  {
   "cell_type": "code",
   "execution_count": null,
   "metadata": {
    "collapsed": true
   },
   "outputs": [],
   "source": []
  },
  {
   "cell_type": "code",
   "execution_count": null,
   "metadata": {
    "collapsed": true
   },
   "outputs": [],
   "source": []
  },
  {
   "cell_type": "code",
   "execution_count": null,
   "metadata": {
    "collapsed": true
   },
   "outputs": [],
   "source": []
  },
  {
   "cell_type": "code",
   "execution_count": 27,
   "metadata": {
    "collapsed": false
   },
   "outputs": [
    {
     "data": {
      "text/plain": [
       "<matplotlib.image.AxesImage at 0x7ffac4850850>"
      ]
     },
     "execution_count": 27,
     "metadata": {},
     "output_type": "execute_result"
    },
    {
     "data": {
      "image/png": "[encoded data removed]",
      "text/plain": [
       "<matplotlib.figure.Figure at 0x7ffac49fff10>"
      ]
     },
     "metadata": {},
     "output_type": "display_data"
    },
    {
     "data": {
      "image/png": "[encoded data removed]",
      "text/plain": [
       "<matplotlib.figure.Figure at 0x7ffac4ad6210>"
      ]
     },
     "metadata": {},
     "output_type": "display_data"
    }
   ],
   "source": [
    "plt.figure(0)\n",
    "plt.imshow(o[42].reshape((28, 28)), cmap='gray')\n",
    "\n",
    "plt.figure(1)\n",
    "plt.imshow(X_train[42].reshape((28, 28)), cmap='gray')"
   ]
  },
  {
   "cell_type": "code",
   "execution_count": null,
   "metadata": {
    "collapsed": true
   },
   "outputs": [],
   "source": []
  },
  {
   "cell_type": "code",
   "execution_count": null,
   "metadata": {
    "collapsed": true
   },
   "outputs": [],
   "source": []
  }
 ],
 "metadata": {
  "kernelspec": {
   "display_name": "Python 2",
   "language": "python",
   "name": "python2"
  },
  "language_info": {
   "codemirror_mode": {
    "name": "ipython",
    "version": 2
   },
   "file_extension": ".py",
   "mimetype": "text/x-python",
   "name": "python",
   "nbconvert_exporter": "python",
   "pygments_lexer": "ipython2",
   "version": "2.7.12"
  }
 },
 "nbformat": 4,
 "nbformat_minor": 2
}
