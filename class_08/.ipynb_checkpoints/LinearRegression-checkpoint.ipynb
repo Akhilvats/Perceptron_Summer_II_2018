{
 "cells": [
  {
   "cell_type": "code",
   "execution_count": null,
   "metadata": {
    "collapsed": true
   },
   "outputs": [],
   "source": [
    "import numpy as np\n",
    "from matplotlib import pyplot as plt\n",
    "%matplotlib inline\n",
    "from sklearn.datasets import make_regression\n",
    "import seaborn as sns"
   ]
  },
  {
   "cell_type": "code",
   "execution_count": null,
   "metadata": {
    "collapsed": false
   },
   "outputs": [],
   "source": [
    "X, y, cof = make_regression(n_samples=500, n_features=1, bias=4.2, noise=7.1, coef=True)\n",
    "print X.shape, y.shape, cof"
   ]
  },
  {
   "cell_type": "code",
   "execution_count": null,
   "metadata": {
    "collapsed": false
   },
   "outputs": [],
   "source": [
    "plt.xlim(-200, 200)\n",
    "plt.ylim(-200, 200)\n",
    "sns.plt.scatter(X[:, 0], y)\n"
   ]
  },
  {
   "cell_type": "code",
   "execution_count": null,
   "metadata": {
    "collapsed": false
   },
   "outputs": [],
   "source": [
    "split = int(0.8 * X.shape[0])\n",
    "\n",
    "X_train = X[:split]\n",
    "X_test = X[split:]\n",
    "\n",
    "y_train = y[:split]\n",
    "y_test = y[split:]\n",
    "\n",
    "print X_train.shape, X_test.shape\n",
    "print y_train.shape, y_test.shape"
   ]
  },
  {
   "cell_type": "code",
   "execution_count": null,
   "metadata": {
    "collapsed": true
   },
   "outputs": [],
   "source": [
    "# hypothesis function\n",
    "def hypothesis(x, w):\n",
    "    return x*w[1] + w[0]\n",
    "\n",
    "# error compute\n",
    "def get_error(y_true, x, w):\n",
    "    err = 0.0\n",
    "    \n",
    "    # Get number of examples\n",
    "    m = x.shape[0]\n",
    "    for ix in range(m):\n",
    "        # for each example compute the square error\n",
    "        err += (y_true[ix] - hypothesis(x[ix], w))**2\n",
    "    # Get mean sq. error\n",
    "    err = err / (2*m)\n",
    "    return err\n",
    "\n",
    "# error gradient\n",
    "def get_grads(y_true, x, w):\n",
    "    grad_00 = 0.0\n",
    "    grad_01 = 0.0\n",
    "    \n",
    "    # Get number of examples\n",
    "    m = x.shape[0]\n",
    "    \n",
    "    for ix in range(m):\n",
    "        # for each example compute the gradients\n",
    "        grad_00 += (y_true[ix] - hypothesis(x[ix], w))*(-1)\n",
    "        grad_01 += (y_true[ix] - hypothesis(x[ix], w))*(-1*x[ix])\n",
    "    \n",
    "    # Get mean grads\n",
    "    grad_00 = grad_00 / m\n",
    "    grad_01 = grad_01 / m\n",
    "    return [grad_00, grad_01]\n",
    "\n",
    "# update weights using grad. desc.\n",
    "def grad_descent(x, y_true, w, learning_rate=0.1):\n",
    "    error = get_error(y_true, x, w)\n",
    "    [grad_00, grad_01] = get_grads(y_true, x, w)\n",
    "    \n",
    "    w[0] = w[0] - learning_rate*grad_00\n",
    "    w[1] = w[1] - learning_rate*grad_01\n",
    "    \n",
    "    return error, w"
   ]
  },
  {
   "cell_type": "code",
   "execution_count": null,
   "metadata": {
    "collapsed": true
   },
   "outputs": [],
   "source": [
    "W = np.array([0.1, 0.1])\n",
    "loss = []"
   ]
  },
  {
   "cell_type": "code",
   "execution_count": null,
   "metadata": {
    "collapsed": false
   },
   "outputs": [],
   "source": [
    "# for ix in range(100):\n",
    "\n",
    "sns.plt.scatter(X[:, 0], y)\n",
    "\n",
    "y_0 = hypothesis(-3, W)\n",
    "y_1 = hypothesis(3, W)\n",
    "\n",
    "plt.plot([-3, 3], [y_0, y_1], 'r*-')\n",
    "plt.show()\n",
    "\n",
    "l, W = grad_descent(X_train, y_train, W, learning_rate=0.01)\n",
    "loss.append(l)\n",
    "\n",
    "# print loss"
   ]
  },
  {
   "cell_type": "code",
   "execution_count": null,
   "metadata": {
    "collapsed": false
   },
   "outputs": [],
   "source": [
    "plt.plot(loss)\n",
    "plt.show()"
   ]
  },
  {
   "cell_type": "code",
   "execution_count": null,
   "metadata": {
    "collapsed": false
   },
   "outputs": [],
   "source": [
    "print W"
   ]
  },
  {
   "cell_type": "code",
   "execution_count": null,
   "metadata": {
    "collapsed": true
   },
   "outputs": [],
   "source": [
    "from sklearn.linear_model import LinearRegression"
   ]
  },
  {
   "cell_type": "code",
   "execution_count": null,
   "metadata": {
    "collapsed": false
   },
   "outputs": [],
   "source": [
    "lr = LinearRegression()\n",
    "\n",
    "lr.fit(X_train, y_train)"
   ]
  },
  {
   "cell_type": "code",
   "execution_count": null,
   "metadata": {
    "collapsed": false
   },
   "outputs": [],
   "source": [
    "lr.score(X_test, y_test)"
   ]
  },
  {
   "cell_type": "code",
   "execution_count": null,
   "metadata": {
    "collapsed": false
   },
   "outputs": [],
   "source": [
    "np.log(0.3)"
   ]
  },
  {
   "cell_type": "code",
   "execution_count": null,
   "metadata": {
    "collapsed": true
   },
   "outputs": [],
   "source": []
  }
 ],
 "metadata": {
  "kernelspec": {
   "display_name": "Python 2",
   "language": "python",
   "name": "python2"
  },
  "language_info": {
   "codemirror_mode": {
    "name": "ipython",
    "version": 2
   },
   "file_extension": ".py",
   "mimetype": "text/x-python",
   "name": "python",
   "nbconvert_exporter": "python",
   "pygments_lexer": "ipython2",
   "version": "2.7.12"
  }
 },
 "nbformat": 4,
 "nbformat_minor": 2
}
