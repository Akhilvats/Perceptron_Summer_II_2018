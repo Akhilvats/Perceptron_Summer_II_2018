{
 "cells": [
  {
   "cell_type": "code",
   "execution_count": 1,
   "metadata": {
    "collapsed": true
   },
   "outputs": [],
   "source": [
    "import random\n",
    "import numpy as np\n",
    "from matplotlib import pyplot as plt\n",
    "%matplotlib inline"
   ]
  },
  {
   "cell_type": "code",
   "execution_count": null,
   "metadata": {
    "collapsed": true
   },
   "outputs": [],
   "source": [
    "NODES = 6\n",
    "GOAL = 4\n",
    "\n",
    "ALPHA = 0.02\n",
    "GAMMA = 0.95\n",
    "EXPLORE_PROB = 1.0"
   ]
  },
  {
   "cell_type": "code",
   "execution_count": null,
   "metadata": {
    "collapsed": true
   },
   "outputs": [],
   "source": [
    "R = {\n",
    "(0, 1): 0,\n",
    "(0, 2): 0,\n",
    "(0, 5): -4,\n",
    "(1, 0): -1,\n",
    "(1, 2): 5,\n",
    "(1, 3): 2,\n",
    "(1, 5): 0,\n",
    "(2, 0): -5,\n",
    "(2, 1): 0,\n",
    "(2, 3): 10,\n",
    "(2, 5): 8,\n",
    "(3, 0): 5,\n",
    "(3, 1): -3,\n",
    "(3, 2): 4,\n",
    "(3, 4): 50,\n",
    "(3, 5): 2,\n",
    "(4, 0): -10,\n",
    "(4, 1): -5,\n",
    "(4, 2): -20,\n",
    "(4, 3): 0,\n",
    "(4, 4): 100,\n",
    "(4, 5): -50,\n",
    "(5, 0): -15,\n",
    "(5, 1): 2,\n",
    "(5, 2): -7,\n",
    "(5, 3): 0,\n",
    "(5, 4): 70,\n",
    "}\n",
    "\n",
    "Q = {}"
   ]
  },
  {
   "cell_type": "code",
   "execution_count": null,
   "metadata": {
    "collapsed": false
   },
   "outputs": [],
   "source": [
    "def get_actions(current):\n",
    "    actions = []\n",
    "    for rx in xrange(NODES):\n",
    "        if (current, rx) in R:\n",
    "            actions.append(rx)\n",
    "    return actions\n",
    "\n",
    "get_actions(2)"
   ]
  },
  {
   "cell_type": "code",
   "execution_count": null,
   "metadata": {
    "collapsed": false
   },
   "outputs": [],
   "source": [
    "def sigmoid(z):\n",
    "    return 1.0 / (1.0 + np.exp(-z))\n",
    "\n",
    "def decay(t, total_iter=100, initial_value=None):\n",
    "    return sigmoid(-1 * ((t * 25.0) / (2.0 * total_iter)) + 5)\n",
    "\n",
    "val = []\n",
    "N = 1000\n",
    "for ix in np.linspace(0, N, 200):\n",
    "    val.append(decay(ix, N, 1.0))\n",
    "    \n",
    "plt.plot(np.linspace(0, N, 200), val)\n",
    "\n"
   ]
  },
  {
   "cell_type": "code",
   "execution_count": null,
   "metadata": {
    "collapsed": false,
    "scrolled": true
   },
   "outputs": [],
   "source": [
    "N_ep = 5000\n",
    "EXPLORE = True\n",
    "display_path = False\n",
    "all_rewards = []\n",
    "for ep in range(N_ep):\n",
    "    pos = 0\n",
    "    rew = 0\n",
    "    steps = 0\n",
    "    if display_path:\n",
    "        print pos,\n",
    "    while (not pos == GOAL) and steps < 10:\n",
    "    # for kx in range(20):\n",
    "        # print pos\n",
    "        steps += 1\n",
    "        p_act = get_actions(pos)\n",
    "        \n",
    "        best_ac = []\n",
    "        q_best = None\n",
    "        \n",
    "        for ac in p_act:\n",
    "            rq = Q.setdefault((pos, ac), 0)\n",
    "            if rq > q_best:\n",
    "                q_best = rq\n",
    "                best = [ac]\n",
    "            elif rq == q_best:\n",
    "                best.append(ac)\n",
    "        \n",
    "        # define exploration\n",
    "        explore_prob = decay(ep, N_ep, EXPLORE_PROB)\n",
    "        \n",
    "        if np.random.random() < explore_prob and EXPLORE:\n",
    "            nxt_pos = random.choice(p_act)\n",
    "        else:\n",
    "            nxt_pos = random.choice(best)\n",
    "        if display_path:\n",
    "            print nxt_pos,\n",
    "        nxt_p_ac = get_actions(nxt_pos)\n",
    "        \n",
    "        nq_best = None\n",
    "        \n",
    "        for ac in nxt_p_ac:\n",
    "            rq = Q.setdefault((nxt_pos, ac), 0)\n",
    "            nq_best = max(nq_best, rq)\n",
    "        \n",
    "        Q[(pos, nxt_pos)] = (1- ALPHA)*Q[(pos, nxt_pos)] + ALPHA*(R[(pos, nxt_pos)] + GAMMA*nq_best)\n",
    "        rew += R[(pos, nxt_pos)]\n",
    "        pos = nxt_pos\n",
    "    if display_path:\n",
    "        print \"\\nEpisode:\", ep, \"| Reward:\", rew\n",
    "    all_rewards.append(rew)"
   ]
  },
  {
   "cell_type": "code",
   "execution_count": null,
   "metadata": {
    "collapsed": false,
    "scrolled": false
   },
   "outputs": [],
   "source": [
    "for ax in range(NODES):\n",
    "    for bx in range(NODES):\n",
    "        if (ax, bx) in Q:\n",
    "            print (ax, bx), Q[(ax, bx)]"
   ]
  },
  {
   "cell_type": "code",
   "execution_count": null,
   "metadata": {
    "collapsed": false
   },
   "outputs": [],
   "source": [
    "plt.figure(0, figsize=(20, 10))\n",
    "\n",
    "plt.plot(all_rewards)\n",
    "plt.show()"
   ]
  }
 ],
 "metadata": {
  "kernelspec": {
   "display_name": "Python 2",
   "language": "python",
   "name": "python2"
  },
  "language_info": {
   "codemirror_mode": {
    "name": "ipython",
    "version": 2
   },
   "file_extension": ".py",
   "mimetype": "text/x-python",
   "name": "python",
   "nbconvert_exporter": "python",
   "pygments_lexer": "ipython2",
   "version": "2.7.12"
  }
 },
 "nbformat": 4,
 "nbformat_minor": 2
}
