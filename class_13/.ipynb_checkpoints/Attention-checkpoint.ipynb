{
 "cells": [
  {
   "cell_type": "code",
   "execution_count": 1,
   "metadata": {
    "collapsed": true
   },
   "outputs": [],
   "source": [
    "import numpy as np\n",
    "import torch\n",
    "import torch.nn as nn\n",
    "import torch.nn.functional as F\n",
    "import pandas as pd\n",
    "import seaborn as sns\n",
    "\n",
    "from torch.autograd import Variable\n",
    "from matplotlib import pyplot as plt\n",
    "%matplotlib inline"
   ]
  },
  {
   "cell_type": "code",
   "execution_count": 2,
   "metadata": {
    "collapsed": true
   },
   "outputs": [],
   "source": [
    "def generate_data(N, dim=32, attention_col=1):\n",
    "    x = np.random.standard_normal(size=(N, dim))\n",
    "    y = np.random.randint(low=0, high=3, size=(N, 1))\n",
    "    x[:, attention_col] = y[:, 0]\n",
    "    return x, y"
   ]
  },
  {
   "cell_type": "code",
   "execution_count": 47,
   "metadata": {
    "collapsed": false
   },
   "outputs": [],
   "source": [
    "class Net(nn.Module):\n",
    "    def __init__(self, ndim=32):\n",
    "        super(Net, self).__init__()\n",
    "        self.attention_probs = nn.Linear(ndim, ndim)\n",
    "        self.out = nn.Linear(ndim, 1)\n",
    "    \n",
    "    def attn(self, x):\n",
    "        p = self.attention_probs(x)\n",
    "        x = F.softmax(x*p)\n",
    "        return x\n",
    "        \n",
    "    def forward(self, x):\n",
    "        x = self.attn(x)\n",
    "        x = self.out(x)\n",
    "        return x"
   ]
  },
  {
   "cell_type": "code",
   "execution_count": 48,
   "metadata": {
    "collapsed": true
   },
   "outputs": [],
   "source": [
    "model = Net()"
   ]
  },
  {
   "cell_type": "code",
   "execution_count": 49,
   "metadata": {
    "collapsed": true
   },
   "outputs": [],
   "source": [
    "X, y = generate_data(100)"
   ]
  },
  {
   "cell_type": "code",
   "execution_count": 50,
   "metadata": {
    "collapsed": false
   },
   "outputs": [
    {
     "data": {
      "text/plain": [
       "((100, 32), (100, 1))"
      ]
     },
     "execution_count": 50,
     "metadata": {},
     "output_type": "execute_result"
    }
   ],
   "source": [
    "X.shape, y.shape"
   ]
  },
  {
   "cell_type": "code",
   "execution_count": 51,
   "metadata": {
    "collapsed": false
   },
   "outputs": [
    {
     "name": "stdout",
     "output_type": "stream",
     "text": [
      "[-0.17147838  0.          1.141099   -0.08629149  0.39935953  1.00443437\n",
      "  0.13017952 -0.34366124 -1.3352909   0.14243199 -0.12035558 -0.54440226\n",
      "  0.03623946 -0.5733401   1.5282742   0.40364525  1.50537283  0.30889869\n",
      "  0.05673982  1.05517625  0.12445792  2.51968925  0.88566802  0.75225859\n",
      " -0.23568414  0.25424565 -0.40345114  0.46099691  0.53417539  0.14058276\n",
      "  0.12888807 -0.09455054] [0]\n"
     ]
    }
   ],
   "source": [
    "print X[0], y[0]"
   ]
  },
  {
   "cell_type": "code",
   "execution_count": 52,
   "metadata": {
    "collapsed": false
   },
   "outputs": [],
   "source": [
    "optimizer = torch.optim.Adam(model.parameters(), lr=0.001)\n",
    "lossfn = torch.nn.MSELoss()"
   ]
  },
  {
   "cell_type": "code",
   "execution_count": 92,
   "metadata": {
    "collapsed": false
   },
   "outputs": [
    {
     "name": "stdout",
     "output_type": "stream",
     "text": [
      "0 tensor(1.00000e-02 *\n",
      "       2.6673)\n",
      "10 tensor(1.00000e-02 *\n",
      "       2.6673)\n",
      "20 tensor(1.00000e-02 *\n",
      "       2.6673)\n",
      "30 tensor(1.00000e-02 *\n",
      "       2.6673)\n",
      "40 tensor(1.00000e-02 *\n",
      "       2.6673)\n",
      "50 tensor(1.00000e-02 *\n",
      "       2.6673)\n",
      "60 tensor(1.00000e-02 *\n",
      "       2.6672)\n",
      "70 tensor(1.00000e-02 *\n",
      "       2.6672)\n",
      "80 tensor(1.00000e-02 *\n",
      "       2.6672)\n",
      "90 tensor(1.00000e-02 *\n",
      "       2.6672)\n"
     ]
    },
    {
     "name": "stderr",
     "output_type": "stream",
     "text": [
      "/usr/local/lib/python2.7/dist-packages/ipykernel/__main__.py:9: UserWarning: Implicit dimension choice for softmax has been deprecated. Change the call to include dim=X as an argument.\n"
     ]
    }
   ],
   "source": [
    "for epoch in range(100):\n",
    "    pred = model(torch.FloatTensor(X))\n",
    "    \n",
    "    loss = lossfn(pred, torch.FloatTensor(y))\n",
    "    optimizer.zero_grad()\n",
    "    \n",
    "    loss.backward()\n",
    "    optimizer.step()\n",
    "    \n",
    "    if epoch % 10 == 0:\n",
    "        print epoch, loss"
   ]
  },
  {
   "cell_type": "code",
   "execution_count": 93,
   "metadata": {
    "collapsed": false
   },
   "outputs": [
    {
     "name": "stderr",
     "output_type": "stream",
     "text": [
      "/usr/local/lib/python2.7/dist-packages/ipykernel/__main__.py:9: UserWarning: Implicit dimension choice for softmax has been deprecated. Change the call to include dim=X as an argument.\n"
     ]
    }
   ],
   "source": [
    "o = model(torch.FloatTensor(X))"
   ]
  },
  {
   "cell_type": "code",
   "execution_count": 94,
   "metadata": {
    "collapsed": false
   },
   "outputs": [
    {
     "name": "stdout",
     "output_type": "stream",
     "text": [
      "torch.Size([100, 32])\n"
     ]
    },
    {
     "name": "stderr",
     "output_type": "stream",
     "text": [
      "/usr/local/lib/python2.7/dist-packages/ipykernel/__main__.py:9: UserWarning: Implicit dimension choice for softmax has been deprecated. Change the call to include dim=X as an argument.\n"
     ]
    }
   ],
   "source": [
    "a = model.attn(torch.FloatTensor(X))\n",
    "print a.shape"
   ]
  },
  {
   "cell_type": "code",
   "execution_count": 95,
   "metadata": {
    "collapsed": true
   },
   "outputs": [],
   "source": [
    "import pandas as pd"
   ]
  },
  {
   "cell_type": "code",
   "execution_count": 97,
   "metadata": {
    "collapsed": false
   },
   "outputs": [
    {
     "name": "stdout",
     "output_type": "stream",
     "text": [
      "tensor([ 1.9364e-04,  1.9336e-04,  7.3354e-04,  2.3713e-04,  2.6628e-04,\n",
      "         1.1818e-04,  1.7046e-04,  5.7082e-04,  9.6614e-01,  3.1342e-04,\n",
      "         1.9287e-04,  1.1240e-04,  1.8302e-04,  1.7026e-04,  2.5366e-04,\n",
      "         4.1076e-04,  2.5107e-05,  1.5335e-04,  1.8397e-04,  2.7485e-02,\n",
      "         2.2095e-04,  4.9397e-06,  3.0459e-05,  7.8739e-05,  2.1980e-04,\n",
      "         1.5476e-04,  2.0013e-04,  1.2461e-04,  1.7759e-04,  2.3510e-04,\n",
      "         2.5203e-04,  1.9610e-04])\n"
     ]
    }
   ],
   "source": [
    "print a[0]"
   ]
  },
  {
   "cell_type": "code",
   "execution_count": 96,
   "metadata": {
    "collapsed": false
   },
   "outputs": [
    {
     "data": {
      "image/png": "[encoded data removed]",
      "text/plain": [
       "<matplotlib.figure.Figure at 0x7f4728297d50>"
      ]
     },
     "metadata": {},
     "output_type": "display_data"
    }
   ],
   "source": [
    "ds = pd.DataFrame(a.data.numpy()[0], columns=['attention (%)'])\n",
    "ds.plot(kind='bar', title='Attention Mechanism')\n",
    "plt.show()"
   ]
  },
  {
   "cell_type": "code",
   "execution_count": null,
   "metadata": {
    "collapsed": true
   },
   "outputs": [],
   "source": []
  }
 ],
 "metadata": {
  "kernelspec": {
   "display_name": "Python 2",
   "language": "python",
   "name": "python2"
  },
  "language_info": {
   "codemirror_mode": {
    "name": "ipython",
    "version": 2
   },
   "file_extension": ".py",
   "mimetype": "text/x-python",
   "name": "python",
   "nbconvert_exporter": "python",
   "pygments_lexer": "ipython2",
   "version": "2.7.12"
  }
 },
 "nbformat": 4,
 "nbformat_minor": 2
}
