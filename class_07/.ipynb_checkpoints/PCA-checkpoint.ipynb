{
 "cells": [
  {
   "cell_type": "code",
   "execution_count": null,
   "metadata": {
    "collapsed": true
   },
   "outputs": [],
   "source": [
    "import numpy as np\n",
    "from sklearn.datasets import load_iris\n",
    "from matplotlib import pyplot as plt\n",
    "%matplotlib inline\n",
    "import pandas as pd\n",
    "import seaborn as sns"
   ]
  },
  {
   "cell_type": "code",
   "execution_count": null,
   "metadata": {
    "collapsed": true
   },
   "outputs": [],
   "source": []
  },
  {
   "cell_type": "code",
   "execution_count": null,
   "metadata": {
    "collapsed": false
   },
   "outputs": [],
   "source": [
    "# create some data\n",
    "mean_01 = np.array([0., 0.])\n",
    "cov_01 = np.array([[1.0, 1.2], [1.2, 1.5]])\n",
    "\n",
    "data = np.random.multivariate_normal(mean_01, cov_01, 800)\n",
    "print data.shape\n",
    "# print np.cov(data.T)"
   ]
  },
  {
   "cell_type": "code",
   "execution_count": null,
   "metadata": {
    "collapsed": false
   },
   "outputs": [],
   "source": [
    "plt.figure(0)\n",
    "sns.plt.scatter(data[:, 0], data[:, 1])\n",
    "plt.show()"
   ]
  },
  {
   "cell_type": "code",
   "execution_count": null,
   "metadata": {
    "collapsed": true
   },
   "outputs": [],
   "source": [
    "def pca(X, k=None):\n",
    "    # set number of output dims\n",
    "    if k is None:\n",
    "        k = X.shape[1]\n",
    "    \n",
    "    # compute the covariance\n",
    "    A = np.cov(X.T)\n",
    "    \n",
    "    # Compute the eigenvectors and eigenvalues\n",
    "    eig_val, eig_vec = np.linalg.eig(A)\n",
    "    #Z = X.dot(W)\n",
    "    return eig_val, eig_vec"
   ]
  },
  {
   "cell_type": "code",
   "execution_count": null,
   "metadata": {
    "collapsed": false
   },
   "outputs": [],
   "source": [
    "lam, W = pca(data)\n",
    "print lam.shape, W.shape"
   ]
  },
  {
   "cell_type": "code",
   "execution_count": null,
   "metadata": {
    "collapsed": false
   },
   "outputs": [],
   "source": [
    "print lam\n",
    "print W"
   ]
  },
  {
   "cell_type": "code",
   "execution_count": null,
   "metadata": {
    "collapsed": true
   },
   "outputs": [],
   "source": []
  },
  {
   "cell_type": "code",
   "execution_count": null,
   "metadata": {
    "collapsed": false
   },
   "outputs": [],
   "source": [
    "print np.cov(data.T)"
   ]
  },
  {
   "cell_type": "code",
   "execution_count": null,
   "metadata": {
    "collapsed": false
   },
   "outputs": [],
   "source": [
    "print lam\n",
    "print W"
   ]
  },
  {
   "cell_type": "code",
   "execution_count": null,
   "metadata": {
    "collapsed": false
   },
   "outputs": [],
   "source": [
    "plt.figure(0)\n",
    "sns.plt.scatter(data[:, 0], data[:, 1])\n",
    "plt.plot([0, 10*W[0, 0]], [0, 10*W[1, 0]], 'ro--')\n",
    "plt.plot([0, 10*W[0, 1]], [0, 10*W[1, 1]], 'ro--')\n",
    "plt.show()"
   ]
  },
  {
   "cell_type": "code",
   "execution_count": null,
   "metadata": {
    "collapsed": false
   },
   "outputs": [],
   "source": [
    "Z = data.dot(W)\n",
    "print Z.shape\n",
    "print Z[:10]"
   ]
  },
  {
   "cell_type": "code",
   "execution_count": null,
   "metadata": {
    "collapsed": false
   },
   "outputs": [],
   "source": [
    "plt.figure(0)\n",
    "plt.xlim(-6, 6)\n",
    "plt.ylim(-6, 6)\n",
    "sns.plt.scatter(Z[:, 0], Z[:, 1])\n",
    "plt.show()"
   ]
  },
  {
   "cell_type": "code",
   "execution_count": null,
   "metadata": {
    "collapsed": false
   },
   "outputs": [],
   "source": [
    "sigma = np.cov(Z.T)\n",
    "print W.dot(sigma).dot(W.T)"
   ]
  },
  {
   "cell_type": "code",
   "execution_count": null,
   "metadata": {
    "collapsed": false
   },
   "outputs": [],
   "source": [
    "# Reconstructing the original data\n",
    "D = Z.dot(W.T)\n",
    "print D.shape\n",
    "\n",
    "plt.figure(0)\n",
    "plt.xlim(-6, 6)\n",
    "plt.ylim(-6, 6)\n",
    "sns.plt.scatter(D[:, 0], D[:, 1])\n",
    "plt.show()"
   ]
  },
  {
   "cell_type": "code",
   "execution_count": null,
   "metadata": {
    "collapsed": true
   },
   "outputs": [],
   "source": []
  },
  {
   "cell_type": "code",
   "execution_count": null,
   "metadata": {
    "collapsed": true
   },
   "outputs": [],
   "source": []
  },
  {
   "cell_type": "code",
   "execution_count": null,
   "metadata": {
    "collapsed": true
   },
   "outputs": [],
   "source": []
  },
  {
   "cell_type": "code",
   "execution_count": null,
   "metadata": {
    "collapsed": false
   },
   "outputs": [],
   "source": [
    "print np.cumsum(lam[::-1]/lam.sum())"
   ]
  },
  {
   "cell_type": "markdown",
   "metadata": {},
   "source": [
    "# PCA on MNIST"
   ]
  },
  {
   "cell_type": "code",
   "execution_count": null,
   "metadata": {
    "collapsed": false
   },
   "outputs": [],
   "source": [
    "ds = pd.read_csv('../../data/mnist.csv')\n",
    "data = ds.values[:10000, 1:]\n",
    "y = ds.values[:10000, 0]\n",
    "print data.shape"
   ]
  },
  {
   "cell_type": "code",
   "execution_count": null,
   "metadata": {
    "collapsed": false
   },
   "outputs": [],
   "source": [
    "N = 1200\n",
    "plt.grid(\"off\")\n",
    "plt.imshow(data[:].mean(axis=0).astype(np.uint8).reshape((28, 28)), cmap='gray')"
   ]
  },
  {
   "cell_type": "code",
   "execution_count": null,
   "metadata": {
    "collapsed": false
   },
   "outputs": [],
   "source": [
    "A = np.cov(data.T)\n",
    "print A.shape"
   ]
  },
  {
   "cell_type": "code",
   "execution_count": null,
   "metadata": {
    "collapsed": false
   },
   "outputs": [],
   "source": [
    "eig_vals, eig_vecs = np.linalg.eig(A)\n",
    "print eig_vals.shape"
   ]
  },
  {
   "cell_type": "code",
   "execution_count": null,
   "metadata": {
    "collapsed": false
   },
   "outputs": [],
   "source": [
    "info = []\n",
    "for ix in range(eig_vals.shape[0]):\n",
    "    dx = [eig_vals[ix], eig_vecs[:, ix]]\n",
    "    info.append(dx)\n",
    "print len(info)"
   ]
  },
  {
   "cell_type": "code",
   "execution_count": null,
   "metadata": {
    "collapsed": false
   },
   "outputs": [],
   "source": [
    "info = sorted(info, key=lambda z: z[0], reverse=True)"
   ]
  },
  {
   "cell_type": "code",
   "execution_count": null,
   "metadata": {
    "collapsed": true
   },
   "outputs": [],
   "source": [
    "sorted_lambda = []\n",
    "sorted_W = []\n",
    "\n",
    "for ix in range(len(info)):\n",
    "    sorted_lambda.append(info[ix][0])\n",
    "    sorted_W.append(info[ix][1])\n",
    "\n",
    "sorted_lambda = np.asarray(sorted_lambda)\n",
    "sorted_W = np.asarray(sorted_W)"
   ]
  },
  {
   "cell_type": "code",
   "execution_count": null,
   "metadata": {
    "collapsed": false
   },
   "outputs": [],
   "source": [
    "plt.plot(sorted_lambda)"
   ]
  },
  {
   "cell_type": "code",
   "execution_count": null,
   "metadata": {
    "collapsed": false
   },
   "outputs": [],
   "source": [
    "plt.figure(0)\n",
    "plt.ylim(0, 1.01)\n",
    "plt.plot(np.cumsum(sorted_lambda/sorted_lambda.sum()))\n",
    "plt.show()"
   ]
  },
  {
   "cell_type": "code",
   "execution_count": null,
   "metadata": {
    "collapsed": false
   },
   "outputs": [],
   "source": [
    "explained_variances_ratio = np.cumsum(sorted_lambda/sorted_lambda.sum())\n",
    "print explained_variances_ratio[50]"
   ]
  },
  {
   "cell_type": "code",
   "execution_count": null,
   "metadata": {
    "collapsed": false
   },
   "outputs": [],
   "source": [
    "for ix in range(explained_variances_ratio.shape[0]):\n",
    "    if explained_variances_ratio[ix] < 0.99:\n",
    "        pass\n",
    "    else:\n",
    "        print ix\n",
    "        break"
   ]
  },
  {
   "cell_type": "code",
   "execution_count": null,
   "metadata": {
    "collapsed": false
   },
   "outputs": [],
   "source": [
    "k = 500\n",
    "W = sorted_W[:, :k]\n",
    "Z = data.dot(W)\n",
    "print Z.shape"
   ]
  },
  {
   "cell_type": "code",
   "execution_count": null,
   "metadata": {
    "collapsed": false
   },
   "outputs": [],
   "source": []
  },
  {
   "cell_type": "code",
   "execution_count": null,
   "metadata": {
    "collapsed": false
   },
   "outputs": [],
   "source": [
    "X_reconstruct = Z.dot(W.T).astype(np.uint8)\n",
    "X_pos = (X_reconstruct>0)\n",
    "X_new = X_reconstruct * X_pos\n",
    "\n",
    "print X_reconstruct.shape\n",
    "\n",
    "# print np.asarray(X_reconstruct[0], dtype='uint8')\n",
    "N = 1\n",
    "\n",
    "plt.subplot(1, 2, 1)\n",
    "plt.grid(\"off\")\n",
    "plt.imshow(data[N].astype(np.uint8).reshape((28, 28)), cmap='gray')\n",
    "plt.subplot(1, 2, 2)\n",
    "plt.grid(\"off\")\n",
    "plt.imshow(X_new[N].astype(np.uint8).reshape((28, 28)), cmap='gray')"
   ]
  },
  {
   "cell_type": "code",
   "execution_count": null,
   "metadata": {
    "collapsed": false
   },
   "outputs": [],
   "source": []
  },
  {
   "cell_type": "code",
   "execution_count": null,
   "metadata": {
    "collapsed": true
   },
   "outputs": [],
   "source": [
    "from sklearn.decomposition import PCA"
   ]
  },
  {
   "cell_type": "code",
   "execution_count": null,
   "metadata": {
    "collapsed": false
   },
   "outputs": [],
   "source": [
    "pca = PCA(n_components=2)\n",
    "\n",
    "X_ = pca.fit_transform(data)\n",
    "print X_.shape"
   ]
  },
  {
   "cell_type": "code",
   "execution_count": null,
   "metadata": {
    "collapsed": false
   },
   "outputs": [],
   "source": [
    "X_re = pca.inverse_transform(X_)\n",
    "X_re.shape"
   ]
  },
  {
   "cell_type": "code",
   "execution_count": null,
   "metadata": {
    "collapsed": false
   },
   "outputs": [],
   "source": [
    "N = np.random.randint(0, high=10000)\n",
    "plt.subplot(1, 2, 1)\n",
    "plt.grid(\"off\")\n",
    "plt.imshow(data[N].reshape((28, 28)), cmap='gray')\n",
    "\n",
    "plt.subplot(1, 2, 2)\n",
    "plt.grid(\"off\")\n",
    "\n",
    "im = X_re[N]\n",
    "img = im - im.min()\n",
    "print img.max()\n",
    "img = img\n",
    "\n",
    "plt.imshow(im.astype(np.uint8).reshape((28, 28)), cmap='gray')\n",
    "\n",
    "plt.show()"
   ]
  },
  {
   "cell_type": "code",
   "execution_count": null,
   "metadata": {
    "collapsed": false
   },
   "outputs": [],
   "source": [
    "X_re.shape"
   ]
  },
  {
   "cell_type": "code",
   "execution_count": null,
   "metadata": {
    "collapsed": false
   },
   "outputs": [],
   "source": [
    "colors = ['red', 'green', 'blue', 'black', 'pink', 'yellow', 'cyan', 'magenta', 'violet', 'brown', 'orange']\n",
    "plt.figure(0)\n",
    "for ix in range(2000):\n",
    "    plt.scatter(X_[ix, 0], X_[ix, 1], color=colors[y[ix]])\n",
    "plt.show()"
   ]
  },
  {
   "cell_type": "code",
   "execution_count": null,
   "metadata": {
    "collapsed": true
   },
   "outputs": [],
   "source": []
  },
  {
   "cell_type": "code",
   "execution_count": null,
   "metadata": {
    "collapsed": true
   },
   "outputs": [],
   "source": []
  }
 ],
 "metadata": {
  "kernelspec": {
   "display_name": "Python 2",
   "language": "python",
   "name": "python2"
  },
  "language_info": {
   "codemirror_mode": {
    "name": "ipython",
    "version": 2
   },
   "file_extension": ".py",
   "mimetype": "text/x-python",
   "name": "python",
   "nbconvert_exporter": "python",
   "pygments_lexer": "ipython2",
   "version": "2.7.12"
  }
 },
 "nbformat": 4,
 "nbformat_minor": 2
}
